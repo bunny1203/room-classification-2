{
 "cells": [
  {
   "cell_type": "markdown",
   "metadata": {},
   "source": [
    "## Importing the data and putting it into a DF:\n",
    "The result will be a dataframe with URLs and a basic messy list of labels"
   ]
  },
  {
   "cell_type": "code",
   "execution_count": 8,
   "metadata": {},
   "outputs": [],
   "source": [
    "import pandas as pd\n",
    "import numpy as np\n",
    "import matplotlib.pyplot as plt\n",
    "import seaborn as sns\n",
    "import json"
   ]
  },
  {
   "cell_type": "code",
   "execution_count": 9,
   "metadata": {},
   "outputs": [],
   "source": [
    "data = pd.read_csv(\"data/blok-csv.csv\")\n",
    "filter_col = [col for col in data if col.startswith('pictures')]\n",
    "cols_url = [filter_col[i] for i in range(len(filter_col)) if \"url\" in filter_col[i]]\n",
    "cols_room = [filter_col[i] for i in range(len(filter_col)) if \"album\" in filter_col[i]]\n",
    "data_url = data.loc[:, cols_url]\n",
    "data_room = data.loc[:, cols_room]"
   ]
  },
  {
   "cell_type": "code",
   "execution_count": 10,
   "metadata": {},
   "outputs": [],
   "source": [
    "data_room = data_room.reindex(sorted(data_room.columns), axis=1)\n",
    "data_url = data_url.reindex(sorted(data_url.columns), axis=1)\n",
    "data_url.drop([\"pictures/53/url\"], axis=1, inplace=True)\n",
    "# for i in range(data_url.shape[1]):\n",
    "#     print(data_url.columns[i], \"---\", data_room.columns[i])\n",
    "# print(data_url.shape)\n",
    "# print(data_room.shape)"
   ]
  },
  {
   "cell_type": "code",
   "execution_count": 11,
   "metadata": {},
   "outputs": [
    {
     "name": "stdout",
     "output_type": "stream",
     "text": [
      "14033\n"
     ]
    }
   ],
   "source": [
    "url_room_list = list()\n",
    "for i in range(data_url.shape[0]):\n",
    "    for j in range(data_url.shape[1]):\n",
    "        if not pd.isna(data_url.iloc[i, j]) and not pd.isna(data_room.iloc[i, j]):\n",
    "            url_room_list.append((data_url.iloc[i, j], data_room.iloc[i, j]))\n",
    "print(len(url_room_list))\n",
    "# over 14 000 labeled pics - not that bad"
   ]
  },
  {
   "cell_type": "code",
   "execution_count": 12,
   "metadata": {},
   "outputs": [],
   "source": [
    "df = pd.DataFrame(url_room_list, columns=[\"img_url\", \"room_type\"])\n",
    "df.loc[:,\"room_type_list\"] = [df[\"room_type\"][i].split(\" & \") for i in range(df.shape[0])]"
   ]
  },
  {
   "cell_type": "code",
   "execution_count": 13,
   "metadata": {},
   "outputs": [
    {
     "data": {
      "text/html": [
       "<div>\n",
       "<style scoped>\n",
       "    .dataframe tbody tr th:only-of-type {\n",
       "        vertical-align: middle;\n",
       "    }\n",
       "\n",
       "    .dataframe tbody tr th {\n",
       "        vertical-align: top;\n",
       "    }\n",
       "\n",
       "    .dataframe thead th {\n",
       "        text-align: right;\n",
       "    }\n",
       "</style>\n",
       "<table border=\"1\" class=\"dataframe\">\n",
       "  <thead>\n",
       "    <tr style=\"text-align: right;\">\n",
       "      <th></th>\n",
       "      <th>img_url</th>\n",
       "      <th>room_type</th>\n",
       "      <th>room_type_list</th>\n",
       "    </tr>\n",
       "  </thead>\n",
       "  <tbody>\n",
       "    <tr>\n",
       "      <th>0</th>\n",
       "      <td>https://blok-production.imgix.net/photos/e7a3e...</td>\n",
       "      <td>Kylpyhuone</td>\n",
       "      <td>[Kylpyhuone]</td>\n",
       "    </tr>\n",
       "    <tr>\n",
       "      <th>1</th>\n",
       "      <td>https://blok-production.imgix.net/photos/e7a3e...</td>\n",
       "      <td>Kylpyhuone</td>\n",
       "      <td>[Kylpyhuone]</td>\n",
       "    </tr>\n",
       "    <tr>\n",
       "      <th>2</th>\n",
       "      <td>https://blok-production.imgix.net/photos/e7a3e...</td>\n",
       "      <td>Pohjakuva</td>\n",
       "      <td>[Pohjakuva]</td>\n",
       "    </tr>\n",
       "    <tr>\n",
       "      <th>3</th>\n",
       "      <td>https://blok-production.imgix.net/photos/e7a3e...</td>\n",
       "      <td>Keittiö</td>\n",
       "      <td>[Keittiö]</td>\n",
       "    </tr>\n",
       "    <tr>\n",
       "      <th>4</th>\n",
       "      <td>https://blok-production.imgix.net/photos/e7a3e...</td>\n",
       "      <td>Keittiö</td>\n",
       "      <td>[Keittiö]</td>\n",
       "    </tr>\n",
       "  </tbody>\n",
       "</table>\n",
       "</div>"
      ],
      "text/plain": [
       "                                             img_url   room_type  \\\n",
       "0  https://blok-production.imgix.net/photos/e7a3e...  Kylpyhuone   \n",
       "1  https://blok-production.imgix.net/photos/e7a3e...  Kylpyhuone   \n",
       "2  https://blok-production.imgix.net/photos/e7a3e...   Pohjakuva   \n",
       "3  https://blok-production.imgix.net/photos/e7a3e...     Keittiö   \n",
       "4  https://blok-production.imgix.net/photos/e7a3e...     Keittiö   \n",
       "\n",
       "  room_type_list  \n",
       "0   [Kylpyhuone]  \n",
       "1   [Kylpyhuone]  \n",
       "2    [Pohjakuva]  \n",
       "3      [Keittiö]  \n",
       "4      [Keittiö]  "
      ]
     },
     "execution_count": 13,
     "metadata": {},
     "output_type": "execute_result"
    }
   ],
   "source": [
    "df.head()"
   ]
  },
  {
   "cell_type": "markdown",
   "metadata": {},
   "source": [
    "Store the dataframe in a binary file so that it can be read in later again:"
   ]
  },
  {
   "cell_type": "code",
   "execution_count": 14,
   "metadata": {},
   "outputs": [],
   "source": [
    "df.to_pickle('data/raw_df')"
   ]
  }
 ],
 "metadata": {
  "kernelspec": {
   "display_name": "Python 3",
   "language": "python",
   "name": "python3"
  },
  "language_info": {
   "codemirror_mode": {
    "name": "ipython",
    "version": 3
   },
   "file_extension": ".py",
   "mimetype": "text/x-python",
   "name": "python",
   "nbconvert_exporter": "python",
   "pygments_lexer": "ipython3",
   "version": "3.5.6"
  }
 },
 "nbformat": 4,
 "nbformat_minor": 2
}
